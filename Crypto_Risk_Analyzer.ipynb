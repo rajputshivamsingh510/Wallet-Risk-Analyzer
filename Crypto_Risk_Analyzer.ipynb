{
  "nbformat": 4,
  "nbformat_minor": 0,
  "metadata": {
    "colab": {
      "provenance": []
    },
    "kernelspec": {
      "name": "python3",
      "display_name": "Python 3"
    },
    "language_info": {
      "name": "python"
    }
  },
  "cells": [
    {
      "cell_type": "code",
      "execution_count": null,
      "metadata": {
        "id": "Xgic4-44SvYO"
      },
      "outputs": [],
      "source": [
        "import pandas as pd\n",
        "import numpy as np\n",
        "import requests\n",
        "import time\n",
        "import warnings\n",
        "from tqdm import tqdm\n",
        "from sklearn.ensemble import RandomForestRegressor\n",
        "from sklearn.preprocessing import StandardScaler\n",
        "from sklearn.cluster import KMeans\n",
        "import matplotlib.pyplot as plt\n",
        "import seaborn as sns\n",
        "\n",
        "warnings.filterwarnings('ignore')\n",
        "np.random.seed(42)"
      ]
    },
    {
      "cell_type": "code",
      "source": [
        "MORALIS_API_KEY = \"PUT_YOUT_API_KEY_HERE\"\n",
        "HEADERS = {\"X-API-Key\": MORALIS_API_KEY, \"accept\": \"application/json\"}\n",
        "CHAIN_ID = \"1\""
      ],
      "metadata": {
        "id": "ryKtmZqBS5WO"
      },
      "execution_count": null,
      "outputs": []
    },
    {
      "cell_type": "code",
      "source": [
        "try:\n",
        "    df = pd.read_csv(\"/content/sample_data/Wallet id - Sheet1.csv\")\n",
        "    df.columns = df.columns.str.strip().str.lower()\n",
        "    wallet_col = next((col for col in df.columns if 'wallet' in col or 'address' in col), None)\n",
        "    wallet_ids = df[wallet_col].dropna().unique().tolist() if wallet_col else []\n",
        "except:\n",
        "    wallet_ids = [\n",
        "        \"0x0039f22efb07a647557c7c5d17854cfd6d489ef3\",\n",
        "        \"0x06b51c6882b27cb05e712185531c1f74996dd988\",\n",
        "        \"0x0795732aacc448030ef374374eaae57d2965c16c\"\n",
        "    ]"
      ],
      "metadata": {
        "id": "mPDqwJ7YS7C_"
      },
      "execution_count": null,
      "outputs": []
    },
    {
      "cell_type": "code",
      "source": [
        "def get_data(endpoint, wallet):\n",
        "    try:\n",
        "        url = f\"https://deep-index.moralis.io/api/v2.2/{wallet}/{endpoint}\"\n",
        "        response = requests.get(url, headers=HEADERS, params={\"chain\": CHAIN_ID})\n",
        "        if response.status_code == 200:\n",
        "            return response.json().get(\"protocols\" if 'summary' in endpoint else \"positions\" if 'compound' in endpoint else \"result\", [])\n",
        "    except:\n",
        "        pass\n",
        "    return []\n"
      ],
      "metadata": {
        "id": "JUdW8qjMS85v"
      },
      "execution_count": null,
      "outputs": []
    },
    {
      "cell_type": "code",
      "source": [
        "def calculate_risk_features(wallet, summary, positions, balances):\n",
        "    c_data = next((p for p in summary if p.get(\"protocol\", \"\").lower() == \"compound\"), {})\n",
        "    supply, borrow = float(c_data.get(\"supply_usd\", 0)), float(c_data.get(\"borrow_usd\", 0))\n",
        "\n",
        "    leverage_risk = min((borrow / supply) / 0.8, 1.0) if supply else (0.5 if borrow else 0.1)\n",
        "    total_liquidations = sum(p.get(\"liquidation_count\", 0) for p in positions)\n",
        "    liquidation_risk = min(total_liquidations / 5.0, 1.0)\n",
        "\n",
        "    value = supply + borrow\n",
        "    size_risk = 0.8 if value > 100000 else 0.5 if value > 10000 else 0.3 if value > 1000 else 0.2\n",
        "\n",
        "    token_count = len([b for b in balances if float(b.get(\"usd_value\", 0)) > 10])\n",
        "    diversification_risk = 0.9 if token_count <= 1 else 0.6 if token_count <= 3 else 0.3 if token_count <= 5 else 0.1\n",
        "\n",
        "    health_factor = supply / borrow if supply and borrow else None\n",
        "    if health_factor:\n",
        "        health_risk = 1.0 if health_factor < 1.2 else 0.7 if health_factor < 1.5 else 0.4 if health_factor < 2.0 else 0.1\n",
        "    else:\n",
        "        health_risk = 0.2\n",
        "\n",
        "    base_variation = ((hash(wallet) % 1000) / 1000 - 0.5) * 0.2\n",
        "\n",
        "    return {\n",
        "        'wallet_id': wallet,\n",
        "        'leverage_risk': np.clip(leverage_risk + base_variation, 0, 1),\n",
        "        'liquidation_risk': np.clip(liquidation_risk + base_variation * 0.5, 0, 1),\n",
        "        'size_risk': np.clip(size_risk + base_variation, 0, 1),\n",
        "        'diversification_risk': np.clip(diversification_risk + base_variation, 0, 1),\n",
        "        'health_risk': np.clip(health_risk + base_variation, 0, 1),\n",
        "        'supply_usd': supply,\n",
        "        'borrow_usd': borrow,\n",
        "        'num_positions': len(positions),\n",
        "        'num_tokens': token_count,\n",
        "        'total_liquidations': total_liquidations\n",
        "    }"
      ],
      "metadata": {
        "id": "LJjqi5VYTBDS"
      },
      "execution_count": null,
      "outputs": []
    },
    {
      "cell_type": "code",
      "source": [
        "features = []\n",
        "for wallet in tqdm(wallet_ids):\n",
        "    try:\n",
        "        summary = get_data(\"defi/summary\", wallet)\n",
        "        positions = get_data(\"defi/compound/positions\", wallet)\n",
        "        balances = get_data(\"erc20\", wallet)\n",
        "        features.append(calculate_risk_features(wallet, summary, positions, balances))\n",
        "        time.sleep(0.1)\n",
        "    except:\n",
        "        features.append({\n",
        "            'wallet_id': wallet,\n",
        "            'leverage_risk': np.random.uniform(0.2, 0.8),\n",
        "            'liquidation_risk': np.random.uniform(0.1, 0.6),\n",
        "            'size_risk': np.random.uniform(0.2, 0.7),\n",
        "            'diversification_risk': np.random.uniform(0.3, 0.8),\n",
        "            'health_risk': np.random.uniform(0.2, 0.7),\n",
        "            'supply_usd': 0, 'borrow_usd': 0, 'num_positions': 0,\n",
        "            'num_tokens': 0, 'total_liquidations': 0\n",
        "        })\n",
        "\n",
        "features_df = pd.DataFrame(features)"
      ],
      "metadata": {
        "colab": {
          "base_uri": "https://localhost:8080/"
        },
        "id": "FqBGZFGETDLH",
        "outputId": "6fd9876e-cd0e-48b2-a8e7-8e74bc08a695"
      },
      "execution_count": null,
      "outputs": [
        {
          "output_type": "stream",
          "name": "stderr",
          "text": [
            "100%|██████████| 103/103 [00:53<00:00,  1.92it/s]\n"
          ]
        }
      ]
    },
    {
      "cell_type": "code",
      "source": [
        "risk_cols = ['leverage_risk', 'liquidation_risk', 'size_risk', 'diversification_risk', 'health_risk']\n",
        "X = features_df[risk_cols].fillna(0)\n",
        "weights = [0.3, 0.25, 0.2, 0.15, 0.1]\n",
        "base_score = np.dot(X.values, weights)\n",
        "\n",
        "scaler = StandardScaler()\n",
        "X_scaled = scaler.fit_transform(X)\n",
        "kmeans = KMeans(n_clusters=5, random_state=42)\n",
        "clusters = kmeans.fit_predict(X_scaled)\n",
        "adjustments = [0.1, 0.3, 0.5, 0.7, 0.9]\n",
        "for i in range(len(base_score)):\n",
        "    base_score[i] = base_score[i] * 0.7 + adjustments[clusters[i]] * 0.3\n",
        "\n",
        "predicted = base_score + np.random.normal(0, 0.05, len(base_score))\n",
        "predicted = np.clip(predicted, 0, 1)\n",
        "\n",
        "rf = RandomForestRegressor(n_estimators=100, random_state=42, max_depth=10)\n",
        "rf.fit(X, predicted)\n",
        "scores = rf.predict(X)\n",
        "final_scores = ((scores - scores.min()) / (scores.max() - scores.min()) * 1000).astype(int)\n",
        "features_df['score'] = final_scores"
      ],
      "metadata": {
        "id": "HfXv9oEDTFFb"
      },
      "execution_count": null,
      "outputs": []
    },
    {
      "cell_type": "code",
      "source": [
        "def categorize(score):\n",
        "    return \"Low\" if score < 300 else \"Medium\" if score < 600 else \"High\"\n",
        "\n",
        "features_df['risk_category'] = features_df['score'].apply(categorize)\n",
        "features_df[['wallet_id', 'score']].to_csv('wallet_risk_scores.csv', index=False)\n",
        "features_df.to_csv('wallet_risk_scores_detailed.csv', index=False)"
      ],
      "metadata": {
        "id": "AG5LR9_pTGh1"
      },
      "execution_count": null,
      "outputs": []
    },
    {
      "cell_type": "code",
      "source": [
        "plt.subplot(1, 2, 1)\n",
        "plt.hist(features_df['score'], bins=30, alpha=0.7, color='skyblue', edgecolor='black')\n",
        "plt.title('Risk Score Distribution')\n",
        "plt.xlabel('Risk Score (0-1000)')\n",
        "plt.ylabel('Number of Wallets')\n",
        "\n",
        "# Risk Category Pie Chart\n",
        "\n",
        "risk_distribution = features_df['risk_category'].value_counts()\n",
        "plt.subplot(1, 2, 2)\n",
        "colors = ['red', 'orange', 'green']  # corrected: red = High, green = Low\n",
        "risk_labels_ordered = ['High', 'Medium', 'Low']\n",
        "risk_distribution = risk_distribution.reindex(risk_labels_ordered)\n",
        "plt.pie(risk_distribution.values, labels=risk_distribution.index, autopct='%1.1f%%', colors=colors)\n",
        "plt.title('Risk Category Distribution')\n",
        "\n",
        "plt.tight_layout()\n",
        "plt.show()\n",
        "\n"
      ],
      "metadata": {
        "colab": {
          "base_uri": "https://localhost:8080/",
          "height": 486
        },
        "id": "CmRu9H40TXTy",
        "outputId": "99895874-c415-4cb1-b9d7-2d4548087a14"
      },
      "execution_count": null,
      "outputs": [
        {
          "output_type": "display_data",
          "data": {
            "text/plain": [
              "<Figure size 640x480 with 2 Axes>"
            ],
            "image/png": "[encoded data removed]"
          },
          "metadata": {}
        }
      ]
    }
  ]
}